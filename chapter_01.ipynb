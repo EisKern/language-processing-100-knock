{
  "nbformat": 4,
  "nbformat_minor": 0,
  "metadata": {
    "colab": {
      "name": "chapter-01.ipynb",
      "provenance": [],
      "include_colab_link": true
    },
    "kernelspec": {
      "name": "python3",
      "display_name": "Python 3"
    }
  },
  "cells": [
    {
      "cell_type": "markdown",
      "metadata": {
        "id": "view-in-github",
        "colab_type": "text"
      },
      "source": [
        "<a href=\"https://colab.research.google.com/github/EisKern/language-processing-100-knock/blob/master/chapter_01.ipynb\" target=\"_parent\"><img src=\"https://colab.research.google.com/assets/colab-badge.svg\" alt=\"Open In Colab\"/></a>"
      ]
    },
    {
      "cell_type": "markdown",
      "metadata": {
        "id": "QaMuRB46mEjX",
        "colab_type": "text"
      },
      "source": [
        "# 第1章: 準備運動\n",
        "https://nlp100.github.io/ja/ch01.html"
      ]
    },
    {
      "cell_type": "code",
      "metadata": {
        "id": "gZ75lNklmLbB",
        "colab_type": "code",
        "outputId": "abcc4cc1-d37a-4fd5-a87e-11b1c5b4f897",
        "colab": {
          "base_uri": "https://localhost:8080/",
          "height": 34
        }
      },
      "source": [
        "#@title 00. 文字列の逆順\n",
        "\n",
        "str = 'stressed'\n",
        "print(str[::-1])"
      ],
      "execution_count": 0,
      "outputs": [
        {
          "output_type": "stream",
          "text": [
            "desserts\n"
          ],
          "name": "stdout"
        }
      ]
    },
    {
      "cell_type": "code",
      "metadata": {
        "id": "seyULBxtmv3w",
        "colab_type": "code",
        "outputId": "f8ed88d7-e45a-4446-b296-02db75eced76",
        "colab": {
          "base_uri": "https://localhost:8080/",
          "height": 34
        }
      },
      "source": [
        "#@title 01. 「パタトクカシーー」\n",
        "\n",
        "str = \"パタトクカシーー\"\n",
        "print(str[0::2])"
      ],
      "execution_count": 0,
      "outputs": [
        {
          "output_type": "stream",
          "text": [
            "パトカー\n"
          ],
          "name": "stdout"
        }
      ]
    },
    {
      "cell_type": "code",
      "metadata": {
        "id": "UPkTzDfsm8cJ",
        "colab_type": "code",
        "outputId": "049d12e9-a8a9-4d6a-98e2-35d8a56c47cc",
        "colab": {
          "base_uri": "https://localhost:8080/",
          "height": 34
        }
      },
      "source": [
        "#@title 02. 「パトカー」＋「タクシー」＝「パタトクカシーー」\n",
        "\n",
        "str1 = \"パトカー\"\n",
        "str2 = \"タクシー\"\n",
        "\n",
        "for c1, c2 in zip(str1, str2):\n",
        "  print(c1 + c2, end=\"\")"
      ],
      "execution_count": 0,
      "outputs": [
        {
          "output_type": "stream",
          "text": [
            "パタトクカシーー"
          ],
          "name": "stdout"
        }
      ]
    },
    {
      "cell_type": "code",
      "metadata": {
        "id": "dVhKIRyonPaF",
        "colab_type": "code",
        "outputId": "c4819714-8c2b-4511-ea3d-b367befd6e90",
        "colab": {
          "base_uri": "https://localhost:8080/",
          "height": 34
        }
      },
      "source": [
        "#@title 03. 円周率\n",
        "\n",
        "sentence = \"Now I need a drink, alcoholic of course, after the heavy lectures involving quantum mechanics.\"\n",
        "sentence = sentence.replace(\",\", \"\").replace(\".\", \"\")\n",
        "\n",
        "for str in sentence.split(\" \"):\n",
        "  print(len(str), end=\"\")\n"
      ],
      "execution_count": 0,
      "outputs": [
        {
          "output_type": "stream",
          "text": [
            "314159265358979"
          ],
          "name": "stdout"
        }
      ]
    },
    {
      "cell_type": "code",
      "metadata": {
        "id": "fIuNXCQyn11F",
        "colab_type": "code",
        "colab": {
          "base_uri": "https://localhost:8080/",
          "height": 34
        },
        "outputId": "679e52aa-1dee-4c9b-d9aa-725a72a4d8da"
      },
      "source": [
        "#@title 04. 元素記号\n",
        "\n",
        "sentence = \"Hi He Lied Because Boron Could Not Oxidize Fluorine. New Nations Might Also Sign Peace Security Clause. Arthur King Can.\"\n",
        "index = [1, 5, 6, 7, 8, 9, 15, 16, 19]\n",
        "index = [x - 1 for x in index]\n",
        "\n",
        "dictionary = {}\n",
        "\n",
        "for i, word in enumerate(sentence.split(\" \")):\n",
        "  if i in index:\n",
        "    dictionary[word[:1]] = i\n",
        "  else:\n",
        "    dictionary[word[:2]] = i\n",
        "\n",
        "print(dictionary)"
      ],
      "execution_count": 5,
      "outputs": [
        {
          "output_type": "stream",
          "text": [
            "{'H': 0, 'He': 1, 'Li': 2, 'Be': 3, 'B': 4, 'C': 5, 'N': 6, 'O': 7, 'F': 8, 'Ne': 9, 'Na': 10, 'Mi': 11, 'Al': 12, 'Si': 13, 'P': 14, 'S': 15, 'Cl': 16, 'Ar': 17, 'K': 18, 'Ca': 19}\n"
          ],
          "name": "stdout"
        }
      ]
    },
    {
      "cell_type": "code",
      "metadata": {
        "id": "lMGvBE8Bg-iN",
        "colab_type": "code",
        "colab": {
          "base_uri": "https://localhost:8080/",
          "height": 85
        },
        "outputId": "7e9e6532-1dff-4f11-8510-f48fe7498fd3"
      },
      "source": [
        "#@title 05. n-gram\n",
        "\n",
        "def n_gram(n, sequence, unit = \"word\"):\n",
        "    if type(sentence) is str:\n",
        "    if unit == \"word\":\n",
        "      sequence = sequence.split(\" \")\n",
        "    elif unit == \"letter\":\n",
        "      sequence = sequence.split(\"\")\n",
        "\n",
        "\n",
        "sentence = \"I am an NLPer\"\n",
        "\n",
        "print(n_gram(2, sentence))\n",
        "print(n_gram(2, sentence, \"letter\"))\n",
        "\n",
        "print(type(sentence))\n",
        "print(type([1, 2, 3]))"
      ],
      "execution_count": 6,
      "outputs": [
        {
          "output_type": "stream",
          "text": [
            "None\n",
            "None\n",
            "<class 'str'>\n",
            "<class 'list'>\n"
          ],
          "name": "stdout"
        }
      ]
    }
  ]
}