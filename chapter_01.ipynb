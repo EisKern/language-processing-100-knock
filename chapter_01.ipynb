{
  "nbformat": 4,
  "nbformat_minor": 0,
  "metadata": {
    "colab": {
      "name": "chapter-01.ipynb",
      "provenance": [],
      "authorship_tag": "ABX9TyNiEMIvahf3t6Aqr/ozAFAC",
      "include_colab_link": true
    },
    "kernelspec": {
      "name": "python3",
      "display_name": "Python 3"
    }
  },
  "cells": [
    {
      "cell_type": "markdown",
      "metadata": {
        "id": "view-in-github",
        "colab_type": "text"
      },
      "source": [
        "<a href=\"https://colab.research.google.com/github/EisKern/language-processing-100-knock/blob/master/chapter_01.ipynb\" target=\"_parent\"><img src=\"https://colab.research.google.com/assets/colab-badge.svg\" alt=\"Open In Colab\"/></a>"
      ]
    },
    {
      "cell_type": "markdown",
      "metadata": {
        "id": "QaMuRB46mEjX",
        "colab_type": "text"
      },
      "source": [
        "# 第1章: 準備運動\n",
        "https://nlp100.github.io/ja/ch01.html"
      ]
    },
    {
      "cell_type": "code",
      "metadata": {
        "id": "gZ75lNklmLbB",
        "colab_type": "code",
        "colab": {
          "base_uri": "https://localhost:8080/",
          "height": 34
        },
        "outputId": "abcc4cc1-d37a-4fd5-a87e-11b1c5b4f897"
      },
      "source": [
        "#@title 00. 文字列の逆順\n",
        "\n",
        "str = 'stressed'\n",
        "print(str[::-1])"
      ],
      "execution_count": 1,
      "outputs": [
        {
          "output_type": "stream",
          "text": [
            "desserts\n"
          ],
          "name": "stdout"
        }
      ]
    },
    {
      "cell_type": "code",
      "metadata": {
        "id": "seyULBxtmv3w",
        "colab_type": "code",
        "colab": {
          "base_uri": "https://localhost:8080/",
          "height": 34
        },
        "outputId": "f8ed88d7-e45a-4446-b296-02db75eced76"
      },
      "source": [
        "#@title 01. 「パタトクカシーー」\n",
        "\n",
        "str = \"パタトクカシーー\"\n",
        "print(str[0::2])"
      ],
      "execution_count": 2,
      "outputs": [
        {
          "output_type": "stream",
          "text": [
            "パトカー\n"
          ],
          "name": "stdout"
        }
      ]
    },
    {
      "cell_type": "code",
      "metadata": {
        "id": "UPkTzDfsm8cJ",
        "colab_type": "code",
        "colab": {
          "base_uri": "https://localhost:8080/",
          "height": 34
        },
        "outputId": "049d12e9-a8a9-4d6a-98e2-35d8a56c47cc"
      },
      "source": [
        "#@title 02. 「パトカー」＋「タクシー」＝「パタトクカシーー」\n",
        "\n",
        "str1 = \"パトカー\"\n",
        "str2 = \"タクシー\"\n",
        "\n",
        "for c1, c2 in zip(str1, str2):\n",
        "  print(c1 + c2, end=\"\")"
      ],
      "execution_count": 4,
      "outputs": [
        {
          "output_type": "stream",
          "text": [
            "パタトクカシーー"
          ],
          "name": "stdout"
        }
      ]
    },
    {
      "cell_type": "code",
      "metadata": {
        "id": "dVhKIRyonPaF",
        "colab_type": "code",
        "colab": {
          "base_uri": "https://localhost:8080/",
          "height": 34
        },
        "outputId": "c4819714-8c2b-4511-ea3d-b367befd6e90"
      },
      "source": [
        "#@title 03. 円周率\n",
        "\n",
        "sentence = \"Now I need a drink, alcoholic of course, after the heavy lectures involving quantum mechanics.\"\n",
        "sentence = sentence.replace(\",\", \"\").replace(\".\", \"\")\n",
        "\n",
        "for str in sentence.split(\" \"):\n",
        "  print(len(str), end=\"\")\n"
      ],
      "execution_count": 9,
      "outputs": [
        {
          "output_type": "stream",
          "text": [
            "314159265358979"
          ],
          "name": "stdout"
        }
      ]
    },
    {
      "cell_type": "code",
      "metadata": {
        "id": "fIuNXCQyn11F",
        "colab_type": "code",
        "colab": {}
      },
      "source": [
        ""
      ],
      "execution_count": 0,
      "outputs": []
    }
  ]
}